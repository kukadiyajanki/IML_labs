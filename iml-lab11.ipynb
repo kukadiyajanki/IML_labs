{
 "cells": [
  {
   "cell_type": "code",
   "execution_count": 1,
   "id": "1ca88381",
   "metadata": {
    "_cell_guid": "b1076dfc-b9ad-4769-8c92-a6c4dae69d19",
    "_uuid": "8f2839f25d086af736a60e9eeb907d3b93b6e0e5",
    "execution": {
     "iopub.execute_input": "2023-10-27T06:35:22.596379Z",
     "iopub.status.busy": "2023-10-27T06:35:22.596028Z",
     "iopub.status.idle": "2023-10-27T06:35:22.967255Z",
     "shell.execute_reply": "2023-10-27T06:35:22.966301Z"
    },
    "papermill": {
     "duration": 0.377173,
     "end_time": "2023-10-27T06:35:22.969577",
     "exception": false,
     "start_time": "2023-10-27T06:35:22.592404",
     "status": "completed"
    },
    "tags": []
   },
   "outputs": [
    {
     "name": "stdout",
     "output_type": "stream",
     "text": [
      "ICICI Bank sample data:\n",
      "         Date        Open        High         Low       Close   Adj Close  \\\n",
      "0  2008-01-01  255.800003  263.799988  252.740005  259.369995  238.615952   \n",
      "1  2008-01-02  262.049988  264.799988  254.000000  261.489990  240.566345   \n",
      "2  2008-01-03  261.000000  262.940002  252.229996  255.160004  234.742874   \n",
      "3  2008-01-04  255.759995  258.959991  246.600006  248.070007  228.220184   \n",
      "4  2008-01-07  248.000000  255.779999  243.000000  245.449997  225.809830   \n",
      "\n",
      "      Volume  \n",
      "0  2456740.0  \n",
      "1  3519075.0  \n",
      "2  2525290.0  \n",
      "3  2753975.0  \n",
      "4  3154815.0  \n",
      "\n",
      "Find  all columns which all entries present:\n",
      "            Date\n",
      "0     2008-01-01\n",
      "1     2008-01-02\n",
      "2     2008-01-03\n",
      "3     2008-01-04\n",
      "4     2008-01-07\n",
      "...          ...\n",
      "3757  2023-03-17\n",
      "3758  2023-03-20\n",
      "3759  2023-03-21\n",
      "3760  2023-03-22\n",
      "3761  2023-03-23\n",
      "\n",
      "[3762 rows x 1 columns]\n",
      "\n",
      "Rows and columns has a NaN:\n",
      "            Open        High         Low       Close   Adj Close     Volume\n",
      "0     255.800003  263.799988  252.740005  259.369995  238.615952  2456740.0\n",
      "1     262.049988  264.799988  254.000000  261.489990  240.566345  3519075.0\n",
      "2     261.000000  262.940002  252.229996  255.160004  234.742874  2525290.0\n",
      "3     255.759995  258.959991  246.600006  248.070007  228.220184  2753975.0\n",
      "4     248.000000  255.779999  243.000000  245.449997  225.809830  3154815.0\n",
      "...          ...         ...         ...         ...         ...        ...\n",
      "3757  688.500000  691.750000  671.299988  680.349976  680.349976  7625895.0\n",
      "3758  671.000000  677.750000  659.299988  666.750000  666.750000  5250369.0\n",
      "3759  671.500000  674.400024  661.200012  664.799988  664.799988  5011027.0\n",
      "3760  669.900024  671.900024  654.150024  657.150024  657.150024  4457720.0\n",
      "3761  655.000000  667.349976  652.049988  654.950012  654.950012  4491324.0\n",
      "\n",
      "[3762 rows x 6 columns]\n",
      "\n",
      "Drop rows with any NaNs:\n",
      "            Date        Open        High         Low       Close   Adj Close  \\\n",
      "0     2008-01-01  255.800003  263.799988  252.740005  259.369995  238.615952   \n",
      "1     2008-01-02  262.049988  264.799988  254.000000  261.489990  240.566345   \n",
      "2     2008-01-03  261.000000  262.940002  252.229996  255.160004  234.742874   \n",
      "3     2008-01-04  255.759995  258.959991  246.600006  248.070007  228.220184   \n",
      "4     2008-01-07  248.000000  255.779999  243.000000  245.449997  225.809830   \n",
      "...          ...         ...         ...         ...         ...         ...   \n",
      "3757  2023-03-17  688.500000  691.750000  671.299988  680.349976  680.349976   \n",
      "3758  2023-03-20  671.000000  677.750000  659.299988  666.750000  666.750000   \n",
      "3759  2023-03-21  671.500000  674.400024  661.200012  664.799988  664.799988   \n",
      "3760  2023-03-22  669.900024  671.900024  654.150024  657.150024  657.150024   \n",
      "3761  2023-03-23  655.000000  667.349976  652.049988  654.950012  654.950012   \n",
      "\n",
      "         Volume  \n",
      "0     2456740.0  \n",
      "1     3519075.0  \n",
      "2     2525290.0  \n",
      "3     2753975.0  \n",
      "4     3154815.0  \n",
      "...         ...  \n",
      "3757  7625895.0  \n",
      "3758  5250369.0  \n",
      "3759  5011027.0  \n",
      "3760  4457720.0  \n",
      "3761  4491324.0  \n",
      "\n",
      "[3755 rows x 7 columns]\n"
     ]
    }
   ],
   "source": [
    "#kukadiya janki n\n",
    "#216270307088\n",
    "#Practical 11: Write a Pandas program to filter all columns where all entries present,\n",
    "#check which rows and columns has a NaN and finally drop rows with any\n",
    "#NaNs from the given dataset.\n",
    "\n",
    "import pandas as pd\n",
    "df = pd.read_csv('/kaggle/input/nifty50-stocks/NIFTY50_Stocks/NIFTY50/ADANIPORTS.NS.csv') \n",
    "print(\"ICICI Bank sample data:\")\n",
    "print(df.head())\n",
    "print(\"\\nFind  all columns which all entries present:\")\n",
    "print(df.loc[:, df.notnull().all()])\n",
    "print(\"\\nRows and columns has a NaN:\")\n",
    "print(df.loc[:,df.isnull().any()])\n",
    "print(\"\\nDrop rows with any NaNs:\")\n",
    "print(df.dropna(how='any'))"
   ]
  },
  {
   "cell_type": "code",
   "execution_count": null,
   "id": "9a9637ea",
   "metadata": {
    "papermill": {
     "duration": 0.003624,
     "end_time": "2023-10-27T06:35:22.978330",
     "exception": false,
     "start_time": "2023-10-27T06:35:22.974706",
     "status": "completed"
    },
    "tags": []
   },
   "outputs": [],
   "source": []
  }
 ],
 "metadata": {
  "kernelspec": {
   "display_name": "Python 3",
   "language": "python",
   "name": "python3"
  },
  "language_info": {
   "codemirror_mode": {
    "name": "ipython",
    "version": 3
   },
   "file_extension": ".py",
   "mimetype": "text/x-python",
   "name": "python",
   "nbconvert_exporter": "python",
   "pygments_lexer": "ipython3",
   "version": "3.10.12"
  },
  "papermill": {
   "default_parameters": {},
   "duration": 3.877412,
   "end_time": "2023-10-27T06:35:23.403830",
   "environment_variables": {},
   "exception": null,
   "input_path": "__notebook__.ipynb",
   "output_path": "__notebook__.ipynb",
   "parameters": {},
   "start_time": "2023-10-27T06:35:19.526418",
   "version": "2.4.0"
  }
 },
 "nbformat": 4,
 "nbformat_minor": 5
}
